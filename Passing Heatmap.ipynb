{
 "cells": [
  {
   "cell_type": "code",
   "execution_count": 54,
   "metadata": {},
   "outputs": [],
   "source": [
    "import pandas as pd\n",
    "import matplotlib.pyplot as plt\n",
    "import seaborn as sns\n",
    "import numpy as np\n",
    "import os"
   ]
  },
  {
   "cell_type": "code",
   "execution_count": 55,
   "metadata": {},
   "outputs": [
    {
     "data": {
      "application/vnd.microsoft.datawrangler.viewer.v0+json": {
       "columns": [
        {
         "name": "index",
         "rawType": "int64",
         "type": "integer"
        },
        {
         "name": "team",
         "rawType": "object",
         "type": "string"
        },
        {
         "name": "week",
         "rawType": "int64",
         "type": "integer"
        },
        {
         "name": "name",
         "rawType": "object",
         "type": "string"
        },
        {
         "name": "pass_type",
         "rawType": "object",
         "type": "string"
        },
        {
         "name": "x",
         "rawType": "float64",
         "type": "float"
        },
        {
         "name": "y",
         "rawType": "float64",
         "type": "float"
        },
        {
         "name": "season",
         "rawType": "int64",
         "type": "integer"
        }
       ],
       "conversionMethod": "pd.DataFrame",
       "ref": "4e12dbed-4467-44ae-9259-0c88772e2ba0",
       "rows": [
        [
         "0",
         "ARI",
         "1",
         "Kyler Murray",
         "COMPLETE",
         "-21.227101803683343",
         "0.0319089207735428",
         "2020"
        ],
        [
         "1",
         "ARI",
         "1",
         "Kyler Murray",
         "COMPLETE",
         "13.81104183505792",
         "6.654193418940598",
         "2020"
        ],
        [
         "2",
         "ARI",
         "1",
         "Kyler Murray",
         "COMPLETE",
         "-11.84873381227844",
         "4.253001737175552",
         "2020"
        ],
        [
         "3",
         "ARI",
         "1",
         "Kyler Murray",
         "COMPLETE",
         "5.388567869659905",
         "-0.5687441643324109",
         "2020"
        ],
        [
         "4",
         "ARI",
         "1",
         "Kyler Murray",
         "COMPLETE",
         "-23.583575514874173",
         "15.900375939849615",
         "2020"
        ]
       ],
       "shape": {
        "columns": 7,
        "rows": 5
       }
      },
      "text/html": [
       "<div>\n",
       "<style scoped>\n",
       "    .dataframe tbody tr th:only-of-type {\n",
       "        vertical-align: middle;\n",
       "    }\n",
       "\n",
       "    .dataframe tbody tr th {\n",
       "        vertical-align: top;\n",
       "    }\n",
       "\n",
       "    .dataframe thead th {\n",
       "        text-align: right;\n",
       "    }\n",
       "</style>\n",
       "<table border=\"1\" class=\"dataframe\">\n",
       "  <thead>\n",
       "    <tr style=\"text-align: right;\">\n",
       "      <th></th>\n",
       "      <th>team</th>\n",
       "      <th>week</th>\n",
       "      <th>name</th>\n",
       "      <th>pass_type</th>\n",
       "      <th>x</th>\n",
       "      <th>y</th>\n",
       "      <th>season</th>\n",
       "    </tr>\n",
       "  </thead>\n",
       "  <tbody>\n",
       "    <tr>\n",
       "      <th>0</th>\n",
       "      <td>ARI</td>\n",
       "      <td>1</td>\n",
       "      <td>Kyler Murray</td>\n",
       "      <td>COMPLETE</td>\n",
       "      <td>-21.227102</td>\n",
       "      <td>0.031909</td>\n",
       "      <td>2020</td>\n",
       "    </tr>\n",
       "    <tr>\n",
       "      <th>1</th>\n",
       "      <td>ARI</td>\n",
       "      <td>1</td>\n",
       "      <td>Kyler Murray</td>\n",
       "      <td>COMPLETE</td>\n",
       "      <td>13.811042</td>\n",
       "      <td>6.654193</td>\n",
       "      <td>2020</td>\n",
       "    </tr>\n",
       "    <tr>\n",
       "      <th>2</th>\n",
       "      <td>ARI</td>\n",
       "      <td>1</td>\n",
       "      <td>Kyler Murray</td>\n",
       "      <td>COMPLETE</td>\n",
       "      <td>-11.848734</td>\n",
       "      <td>4.253002</td>\n",
       "      <td>2020</td>\n",
       "    </tr>\n",
       "    <tr>\n",
       "      <th>3</th>\n",
       "      <td>ARI</td>\n",
       "      <td>1</td>\n",
       "      <td>Kyler Murray</td>\n",
       "      <td>COMPLETE</td>\n",
       "      <td>5.388568</td>\n",
       "      <td>-0.568744</td>\n",
       "      <td>2020</td>\n",
       "    </tr>\n",
       "    <tr>\n",
       "      <th>4</th>\n",
       "      <td>ARI</td>\n",
       "      <td>1</td>\n",
       "      <td>Kyler Murray</td>\n",
       "      <td>COMPLETE</td>\n",
       "      <td>-23.583576</td>\n",
       "      <td>15.900376</td>\n",
       "      <td>2020</td>\n",
       "    </tr>\n",
       "  </tbody>\n",
       "</table>\n",
       "</div>"
      ],
      "text/plain": [
       "  team  week          name pass_type          x          y  season\n",
       "0  ARI     1  Kyler Murray  COMPLETE -21.227102   0.031909    2020\n",
       "1  ARI     1  Kyler Murray  COMPLETE  13.811042   6.654193    2020\n",
       "2  ARI     1  Kyler Murray  COMPLETE -11.848734   4.253002    2020\n",
       "3  ARI     1  Kyler Murray  COMPLETE   5.388568  -0.568744    2020\n",
       "4  ARI     1  Kyler Murray  COMPLETE -23.583576  15.900376    2020"
      ]
     },
     "execution_count": 55,
     "metadata": {},
     "output_type": "execute_result"
    }
   ],
   "source": [
    "#load data\n",
    "df = pd.read_csv(r\"C:\\Users\\Collin\\OneDrive - Gettysburg College\\Gettysburg Spring 2025\\DS 311 Data Visualizations\\Github\\Passing-Heatmap\\nfl_data.csv\")\n",
    "df.head()"
   ]
  },
  {
   "cell_type": "code",
   "execution_count": 56,
   "metadata": {},
   "outputs": [
    {
     "data": {
      "text/plain": [
       "team         1038\n",
       "week         1038\n",
       "name         1038\n",
       "pass_type    1038\n",
       "x            1038\n",
       "y            1038\n",
       "season       1038\n",
       "dtype: int64"
      ]
     },
     "execution_count": 56,
     "metadata": {},
     "output_type": "execute_result"
    }
   ],
   "source": [
    "quarterback = 'Kyler Murray'\n",
    "week = 10\n",
    "\n",
    "#add error handling for quarterback names \n",
    "\n",
    "#filter data for specific quarterback and week\n",
    "new_df = df[df['name'] == quarterback]\n",
    "new_df = new_df[new_df['week'] == week]\n",
    "\n",
    "qb_df.count()\n"
   ]
  },
  {
   "cell_type": "code",
   "execution_count": 75,
   "metadata": {},
   "outputs": [
    {
     "name": "stderr",
     "output_type": "stream",
     "text": [
      "C:\\Users\\Collin\\AppData\\Local\\Temp\\ipykernel_29496\\1875322338.py:3: UserWarning: \n",
      "\n",
      "`shade_lowest` has been replaced by `thresh`; setting `thresh=0.05.\n",
      "This will become an error in seaborn v0.14.0; please update your code.\n",
      "\n",
      "  sns.kdeplot(data=new_df, x='x', y='y',cmap = \"gist_heat\", fill=True, shade_lowest = False, ax=ax1, n_levels = 10)\n"
     ]
    },
    {
     "data": {
      "image/png": "[encoded data removed]",
      "text/plain": [
       "<Figure size 640x480 with 1 Axes>"
      ]
     },
     "metadata": {},
     "output_type": "display_data"
    }
   ],
   "source": [
    "#create field, it is  KDE plot, using x and y cords from passing locations\n",
    "ax1 = plt.gca()\n",
    "sns.kdeplot(data=new_df, x='x', y='y',cmap = \"gist_heat\", fill=True, shade_lowest = False, ax=ax1, n_levels = 10)\n",
    "\n",
    "ax1.yaxis.grid(True)\n",
    "ax1.yaxis.grid(color = 'black', alpha = 0.5)\n",
    "ax1.yaxis.grid(linestyle = '--')\n",
    "\n",
    "plt.show()\n",
    "  "
   ]
  },
  {
   "cell_type": "code",
   "execution_count": null,
   "metadata": {},
   "outputs": [],
   "source": []
  }
 ],
 "metadata": {
  "kernelspec": {
   "display_name": "base",
   "language": "python",
   "name": "python3"
  },
  "language_info": {
   "codemirror_mode": {
    "name": "ipython",
    "version": 3
   },
   "file_extension": ".py",
   "mimetype": "text/x-python",
   "name": "python",
   "nbconvert_exporter": "python",
   "pygments_lexer": "ipython3",
   "version": "3.12.4"
  }
 },
 "nbformat": 4,
 "nbformat_minor": 2
}
